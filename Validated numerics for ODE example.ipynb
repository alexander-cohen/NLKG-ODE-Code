{
 "cells": [
  {
   "cell_type": "code",
   "execution_count": 2,
   "metadata": {},
   "outputs": [],
   "source": [
    "using IntervalArithmetic\n",
    "using LinearAlgebra\n",
    "using Plots\n",
    "# <img src=\"img/force_graph_annotated_copy.png\" alt=\"Force graph annotated\" style=\"width: 600px;\"/>"
   ]
  },
  {
   "cell_type": "code",
   "execution_count": null,
   "metadata": {},
   "outputs": [],
   "source": []
  },
  {
   "cell_type": "markdown",
   "metadata": {},
   "source": [
    "# Code for computing exactly the solution to the piecewise linear ODE using interval arithmetic\n",
    "\n",
    "There are six piecewise linear pieces"
   ]
  },
  {
   "cell_type": "markdown",
   "metadata": {},
   "source": [
    "![my_image](img/force_graph_annotated_copy.png)"
   ]
  },
  {
   "cell_type": "markdown",
   "metadata": {},
   "source": [
    "In reality, we take $h^2 = 1.5$, $c = 0.05$, $\\ell = 5$\n",
    "\n",
    "Note that the piece $P_0$ has slope 1. \n",
    "\n",
    "For these parameters, starting at the end of the flat piece, that is, $y = 9$, passes over $y = 0$\n",
    "\n",
    "But starting beyond that, in particular, $y = 15$ does not. \n",
    "\n",
    "We write code to find \n",
    "- $T_0, v_0$ in terms of $b$. For $b=9$, $T_0 = 0$ and $v_0 = 0$. For $b=15$, these values are different.\n",
    "- $T_1, v_1$ in terms of $T_0, v_0$\n",
    "- $T_2, v_2$ in terms of $T_1, v_1$\n",
    "- $T_3, v_3$ in terms of $T_2, v_2$\n",
    "- $T_4, v_4$ in terms of $T_3, v_3$\n",
    "- Whether or not $y = 0$ is reached in terms of $T_4, v_4$\n",
    "\n",
    "All numerics are done using the julia package IntervalArithmetic, a validated numerics package."
   ]
  },
  {
   "cell_type": "markdown",
   "metadata": {},
   "source": [
    "The various pieces have the following equations:\n",
    "\n",
    "- \n",
    "$P_0$ has equation \n",
    "$$\\ddot{Y} + \\frac{2}{t}\\dot{Y} + Y = 0$$ \n",
    "where $Y = y - (4+\\ell)$. \n",
    "This has initial condition \n",
    "$$Y(0) = b,\\quad \\dot{Y}(0) = 0$$ \n",
    "and solution\n",
    "$$Y(t) = \\frac{b\\sin(t)}{t}$$\n",
    "$$\\dot{Y}(t) = \\frac{b\\cos(t)}{t} - \\frac{b\\sin(t)}{t^2}$$\n",
    "\n",
    "- $P_1$ has equation \n",
    "$$\\ddot{Y} + \\frac{2}{t}\\dot{Y} + c = 0$$\n",
    "where $Y = y - (4 + \\ell)$. \n",
    "This has initial condition \n",
    "$$Y(T_0) = 0,\\quad \\dot{Y}(T_0) = v_0$$\n",
    "and solution\n",
    "$$Y(t) = -\\frac{ct^2}{6} + \\frac{k_1}{t} + k_2$$\n",
    "$$\\dot{Y}(t) = -\\frac{ct}{3} - \\frac{k_1}{t^2}$$\n",
    "\n",
    "- \n",
    "$P_2$ has equation\n",
    "$$\\ddot{Y} + \\frac{2}{t}\\dot{Y} - (h^2 -c) Y + c = 0$$ \n",
    "where $Y = y - 4$.\n",
    "This has initial condition \n",
    "$$Y(T_1) = 0,\\quad \\dot{Y}(T_1) = v_1$$\n",
    "and solution\n",
    "$$Y(t) = \\frac{k_1e^{-t\\sqrt{h^2-c}}}{t} + \\frac{k_2e^{t\\sqrt{h^2-c}}}{t} + \\frac{c}{h^2-c}$$\n",
    "$$\\dot{Y}(t) = -\\frac{k_1\\sqrt{h^2-c}e^{-t\\sqrt{h^2-c}}}{t} - \\frac{k_1e^{-t\\sqrt{h^2-c}}}{t^2} + \\frac{k_2\\sqrt{h^2-c}e^{t\\sqrt{h^2-c}}}{t} - \\frac{k_2e^{t\\sqrt{h^2-c}}}{t^2}$$\n",
    "\n",
    "- \n",
    "$P_3$ has equation\n",
    "$$\\ddot{Y} + \\frac{2}{t}\\dot{Y} + h^2 (Y+1) = 0 $$ \n",
    "where $Y = y - 3$. \n",
    "This has initial condition \n",
    "$$Y(T_2) = 0,\\quad \\dot{Y}(T_2) = v_2$$\n",
    "and solution\n",
    "$$Y(t) = \\frac{k_1 \\sin(ht)}{t} + \\frac{k_2\\cos(ht)}{t}-1$$\n",
    "$$\\dot{Y}(t) = \\frac{hk_1\\cos(ht)}{t} - \\frac{k_1\\sin(ht)}{t^2} - \\frac{hk_2\\sin(ht)}{t} - \\frac{k_2\\cos(ht)}{t^2}$$\n",
    "\n",
    "- \n",
    "$P_4$ has equation \n",
    "$$\\ddot{Y} + \\frac{2}{t}\\dot{Y} + Y = 0$$ \n",
    "where $Y = y - 2$. \n",
    "This has initial condition \n",
    "$$Y(T_3) = 0,\\quad \\dot{Y}(T_3) = v_3$$\n",
    "and solution \n",
    "$$Y(t) = \\frac{k_1\\sin(t)}{t} + \\frac{k_2\\cos(t)}{t}$$\n",
    "$$\\dot{Y}(t) = \\frac{k_1\\cos(t)}{t} - \\frac{k_1\\sin(t)}{t^2} - \\frac{k_2\\sin(t)}{t} - \\frac{k_2\\cos(t)}{t^2}$$\n",
    "\n",
    "- \n",
    "$P_5$ has equation \n",
    "$$\\ddot{y} + \\frac{2}{t}\\dot{Y} - Y - 1 = 0$$ \n",
    "where $Y = y - 1$. \n",
    "This has initial condition \n",
    "$$Y(T_4) = 0,\\quad \\dot{Y}(T_4) = v_4$$\n",
    "and solution \n",
    "$$Y(t) = \\frac{k_1e^{t}}{t} + \\frac{k_2e^{-t}}{t} - 1$$\n",
    "$$\\dot{Y}(t) = \\frac{k_1e^t}{t} - \\frac{k_1e^t}{t^2} - \\frac{k_2e^{-t}}{t} - \\frac{k_2e^{-t}}{t^2}$$\n",
    "\n",
    "We pass over $y = 0$ if $k_1 < 0$, and stay in the region $y > 0$ if $k_1 > 0$. "
   ]
  },
  {
   "cell_type": "code",
   "execution_count": 3,
   "metadata": {},
   "outputs": [
    {
     "data": {
      "text/plain": [
       "5"
      ]
     },
     "execution_count": 3,
     "metadata": {},
     "output_type": "execute_result"
    }
   ],
   "source": [
    "h2 = 1.5\n",
    "h = sqrt(h2)\n",
    "c = 0.05\n",
    "l = 5"
   ]
  },
  {
   "cell_type": "code",
   "execution_count": 4,
   "metadata": {},
   "outputs": [
    {
     "data": {
      "text/plain": [
       "2×3 Array{Int64,2}:\n",
       " 1  2  3\n",
       " 4  5  6"
      ]
     },
     "execution_count": 4,
     "metadata": {},
     "output_type": "execute_result"
    }
   ],
   "source": [
    "M = [1 2 3; 4 5 6]"
   ]
  },
  {
   "cell_type": "code",
   "execution_count": 5,
   "metadata": {},
   "outputs": [
    {
     "data": {
      "text/plain": [
       "3×1 Array{Float64,2}:\n",
       "  0.40824829046386285\n",
       " -0.816496580927726  \n",
       "  0.40824829046386313"
      ]
     },
     "execution_count": 5,
     "metadata": {},
     "output_type": "execute_result"
    }
   ],
   "source": [
    "nullspace(M)"
   ]
  },
  {
   "cell_type": "code",
   "execution_count": 6,
   "metadata": {},
   "outputs": [
    {
     "data": {
      "text/plain": [
       "true"
      ]
     },
     "execution_count": 6,
     "metadata": {},
     "output_type": "execute_result"
    }
   ],
   "source": [
    "a = @interval(1.)\n",
    "a isa Interval"
   ]
  },
  {
   "cell_type": "code",
   "execution_count": 74,
   "metadata": {},
   "outputs": [
    {
     "data": {
      "text/plain": [
       "solve_for_time (generic function with 3 methods)"
      ]
     },
     "execution_count": 74,
     "metadata": {},
     "output_type": "execute_result"
    }
   ],
   "source": [
    "# takes in a matrix [A11 A12 A13; A21 A22 A23]\n",
    "# solves for k_1 A11 + k_2 A12 + A13 = 0 and\n",
    "# k_1 A21 + k_2 A22 + A23 = 0\n",
    "\n",
    "function solve_affine_system(M)\n",
    "#     N = nullspace(M)\n",
    "#     N ./= N[3]\n",
    "#     return N[1], N[2]\n",
    "    k2 = (M[1,1] * M[2,3] - M[2,1] * M[1,3]) / (M[2,1] * M[1,2] - M[1,1] * M[2,2])\n",
    "    k1 = (- M[1,3] - M[1,2] * k2) / M[1,1]\n",
    "    \n",
    "    return k1,k2\n",
    "end\n",
    "\n",
    "MAX_VAL = 1000\n",
    "# use a binary search\n",
    "# we assume initial position is GREATER than the target\n",
    "function solve_for_time(odefunc, target, initial_time, inc = 0.1, tol = 1e-6)\n",
    "#     print(initial_time)\n",
    "    y0 = odefunc(initial_time)\n",
    "    Tmax = initial_time\n",
    "    # increment time until we first pass\n",
    "    while odefunc(Tmax) > target\n",
    "        Tmax += 0.1\n",
    "#         println(odefunc(Tmax))\n",
    "#         flush(stdout)\n",
    "        if odefunc(Tmax) > y0\n",
    "            return -1\n",
    "        end\n",
    "    end\n",
    "    \n",
    "    l = initial_time\n",
    "    u = Tmax\n",
    "    m = (l+u)/2\n",
    "    # at all times, func(u) < target, func(l) > target\n",
    "    while u - l > tol\n",
    "        m = (u+l) / 2\n",
    "#         println(l, \", \", u)\n",
    "        mv = odefunc(m)\n",
    "\n",
    "            \n",
    "        if mv < target\n",
    "            u = m\n",
    "        else\n",
    "            l = m\n",
    "        end\n",
    "    end\n",
    "    if target isa Interval\n",
    "        return @interval(l, u)\n",
    "    else\n",
    "        return m\n",
    "    end\n",
    "end"
   ]
  },
  {
   "cell_type": "code",
   "execution_count": 8,
   "metadata": {},
   "outputs": [
    {
     "data": {
      "text/plain": [
       "eval_does_it_pass_over (generic function with 1 method)"
      ]
     },
     "execution_count": 8,
     "metadata": {},
     "output_type": "execute_result"
    }
   ],
   "source": [
    "# y(t) = bsin(t)/t\n",
    "# must solve bsin(t)/t = 0, this occurs for the first time at t = pi/2\n",
    "# NOTE: this is wrong updated version below agrees with python code & is accurate\n",
    "function find_t0v0(b)\n",
    "    d = b - (4+l)\n",
    "    T0 = pi\n",
    "    v0 = -d/T0\n",
    "    return T0, v0\n",
    "end\n",
    "\n",
    "# must solve solve for:\n",
    "# -cT_0^2/6 + k_1/t + k_2 = 0\n",
    "# -cT_0/3 - k_1/t^2 = v0\n",
    "# first solve for k_1, then k_2\n",
    "function find_t1v1(T0, v0)\n",
    "    # first solve for k1 and k2 so we know Y(t)\n",
    "    M = [1/T0 1 -c * T0^2/6 ; -1/(T0^2) 0 (-c * T0 / 3 - v0)]\n",
    "    k1, k2 = solve_affine_system(M)\n",
    "\n",
    "    f(t)  = -(c * t^2) / 6 + k1 / t + k2\n",
    "    fd(t) = -c * t / 3 - k1 / (t^2)\n",
    "    \n",
    "    println(\"T0, v0: \", T0, \", \", v0)\n",
    "    println(\"f(T0), fd(T0): \", f(T0), \", \", fd(T0))\n",
    "#     return f, fd\n",
    "#     then solve for T1 such that Y(T1) = -4 - l using a binary search, as Y decreases monotonically\n",
    "    T1 = solve_for_time(f, -l, T0)\n",
    "    \n",
    "    \n",
    "    # then solve for v1 at T1 using the formula for Y'(T1)\n",
    "    v1 = fd(T1)\n",
    "    \n",
    "    return T1, v1\n",
    "end\n",
    "\n",
    "function find_t1v1_for_start_topramp()\n",
    "    k1 = 0\n",
    "    k2 = 0\n",
    "    f(t)  = -(c * t^2) / 6 + k1 / t + k2\n",
    "    fd(t) = -c * t / 3 - k1 / (t^2)\n",
    "    T1 = solve_for_time(f, -l, T0)\n",
    "    v1 = fd(T1)\n",
    "    return T1, v1\n",
    "end\n",
    "\n",
    "# equations are complicated so I will not write them here\n",
    "function find_t2v2(T1, v1)\n",
    "    k1_coeff_1 = exp(-T1 * sqrt(h2 - c))/T1 \n",
    "    k2_coeff_1 = exp(T1 * sqrt(h2 - c))/T1\n",
    "    const1 = c/(h2-c)\n",
    "    \n",
    "    sd = sqrt(h2 - c)\n",
    "    \n",
    "    k1_coeff_2 = -sqrt(h2-c) * exp(-T1 * sd) / T1\n",
    "    k1_coeff_2 -= exp(-T1 * sd)/(T1^2)\n",
    "    \n",
    "    k2_coeff_2 = sqrt(h2-c) * exp(T1 * sd) / T1\n",
    "    k2_coeff_2 -= exp(T1 * sd) / (T1^2)\n",
    "    const2 = -v1\n",
    "    \n",
    "    M = [k1_coeff_1 k2_coeff_1 const1; k1_coeff_2 k2_coeff_2 const2]\n",
    "    k1, k2 = solve_affine_system(M)\n",
    "    \n",
    "    f(t) = k1 * exp(-t * sd) / t + k2 * exp(t * sd) / t + c / (h2 - c)\n",
    "    fd(t) = - k1 * sd * exp(-t * sd) / t - k1 * exp(-t * sd) / (t^2) + k2 * sd * exp(t * sd) / t - k2 * exp(t*sd)/(t^2)\n",
    "    \n",
    "    \n",
    "    println(\"T1, v1: \", T1, \", \", v1)\n",
    "    println(\"f(T1), fd(T1): \", f(T1), \", \", fd(T1))\n",
    "    \n",
    "    T2 = solve_for_time(f, -1, T1)\n",
    "    v2 = fd(T2)\n",
    "    return T2, v2\n",
    "end\n",
    "\n",
    "# Y(t) = k1 sin(t) / t + k2 cos(t) / t - 1\n",
    "function find_t3v3(T2, v2)\n",
    "    k1_coeff_1 = sin(h * T2)/T2\n",
    "    k2_coeff_1 = cos(h * T2)/T2\n",
    "    const1 = -1\n",
    "    \n",
    "    k1_coeff_2 = h * cos(h * T2)/T2 - sin(h * T2)/(T2^2)\n",
    "    k2_coeff_2 = -h * sin(h * T2)/T2 - cos(h * T2)/(T2^2)\n",
    "    const2 = -v2\n",
    "/    \n",
    "    M = [k1_coeff_1 k2_coeff_1 const1; k1_coeff_2 k2_coeff_2 const2]\n",
    "    k1, k2 = solve_affine_system(M)\n",
    "    \n",
    "    f(t) = k1 * sin(h * t) / t + k2 * cos(h * t) / t - 1\n",
    "    fd(t) = k1 * h * cos(h * t) / t - k1 * sin(h * t) / (t^2) - \n",
    "            k2 * h * sin(h * t) / t - k2 * cos(h * t) / t^2\n",
    "    \n",
    "    println(T2, \", \", v2)\n",
    "    println(f(T2), \", \", fd(T2))\n",
    "    \n",
    "    T3 = solve_for_time(f, -1, T2)\n",
    "    v3 = fd(T3)\n",
    "    \n",
    "    return T3, v3\n",
    "    \n",
    "end\n",
    "\n",
    "function find_t4v4(T3, v3)\n",
    "    k1_coeff_1 = sin(T3)/T3\n",
    "    k2_coeff_1 = cos(T3)/T3\n",
    "    const1 = 0\n",
    "    \n",
    "    k1_coeff_2 = cos(T3)/T3 - sin(T3)/(T3^2)\n",
    "    k2_coeff_2 = -sin(T3)/T3 - cos(T3)/(T3^2)\n",
    "    const2 = -v3\n",
    "/    \n",
    "    M = [k1_coeff_1 k2_coeff_1 const1; k1_coeff_2 k2_coeff_2 const2]\n",
    "    k1, k2 = solve_affine_system(M)\n",
    "    \n",
    "    f(t) = k1 * sin(t) / t + k2 * cos(t) / t\n",
    "    fd(t) = k1 * cos(t) / t - k1 * sin(t) / (t^2) - \n",
    "            k2 * sin(t) / t - k2 * cos(t) / t^2\n",
    "    \n",
    "    println(\"T3, v3: \", T3, \", \", v3)\n",
    "    println(\"f(T3), fd(T3): \", f(T3), \", \", fd(T3))\n",
    "    \n",
    "    T4 = solve_for_time(f, -1, T3)\n",
    "    v4 = fd(T4)\n",
    "    \n",
    "    return T4, v4\n",
    "end\n",
    "\n",
    "function does_it_pass_over(T4,v4)\n",
    "    k1_coeff_1 = exp(T4)/T4 \n",
    "    k2_coeff_1 = exp(-T4)/T4\n",
    "    const1 = -1\n",
    "    \n",
    "    k1_coeff_2 = exp(T4)/T4 - exp(T4)/(T4^2) \n",
    "    k2_coeff_2 = - exp(-T4)/T4 - exp(-T4)/(T4^2)\n",
    "    const2 = -v4\n",
    "    \n",
    "    M = [k1_coeff_1 k2_coeff_1 const1; k1_coeff_2 k2_coeff_2 const2]\n",
    "    k1, k2 = solve_affine_system(M)\n",
    "    \n",
    "    # if k1 < 0, we pass over; otherwise, we don't\n",
    "    return k1 < 0\n",
    "end\n",
    "\n",
    "function eval_does_it_pass_over(b)\n",
    "    T0, v0 = find_t0v0(b)\n",
    "    T1, v1 = find_t1v1(T0, v0)\n",
    "    T2, v2 = find_t2v2(T1, v1)\n",
    "    T3, v3 = find_t3v3(T2, v2)\n",
    "    T4, v4 = find_t4v4(T3, v3)\n",
    "    return does_it_pass_over(T4, v4)\n",
    "end"
   ]
  },
  {
   "cell_type": "code",
   "execution_count": 9,
   "metadata": {},
   "outputs": [
    {
     "data": {
      "text/plain": [
       "eval_does_it_pass_over2 (generic function with 1 method)"
      ]
     },
     "execution_count": 9,
     "metadata": {},
     "output_type": "execute_result"
    }
   ],
   "source": [
    "\"\"\"\n",
    "more general solver for linear klein gordon equation \n",
    "y'' + (2/t) y' + my + q = 0 \n",
    "y(t0) = y0, y'(t0) = v0\n",
    "\n",
    "RETURNS f(t), v(t), which are y and y' as a function of t. \n",
    "\n",
    "if m != 0, substituting Y = y + q/m, we obtain\n",
    "Y'' + (2/t) Y' + mY = 0\n",
    "\n",
    "distinguishes between three cases: m < 0, m = 0, m > 0\n",
    "\"\"\"\n",
    "\n",
    "\"\"\"\n",
    "IF m = 0\n",
    "y(t) = -qt^2/6 + k1/t + k2 = 0\n",
    "y'(t) = -qt/3 - k1/t^2\n",
    "\"\"\"\n",
    "function solve_ode_linear_mzero(t0, y0, v0, q)\n",
    "    if isapprox(t0, 0)\n",
    "        @assert(isapprox(v0, 0))\n",
    "        k1 = 0\n",
    "        k2 = y0\n",
    "    else\n",
    "        k1_coeff1 = 1/t0\n",
    "        k2_coeff1 = 1\n",
    "        const1 = -q * t0^2 / 6 - y0\n",
    "        \n",
    "        k1_coeff2 = -1/(t0^2)\n",
    "        k2_coeff2 = 0\n",
    "        const2 = -q*t0 / 3 - v0\n",
    "        \n",
    "        M = [k1_coeff1 k2_coeff1 const1; k1_coeff2 k2_coeff2 const2]\n",
    "        k1, k2 = solve_affine_system(M)\n",
    "    end\n",
    "        \n",
    "    f(t) = - q * t^2 / 6 + k1 / t + k2\n",
    "    v(t) = - q * t / 3 - k1 / (t^2)\n",
    "    \n",
    "    if isapprox(t0, 0)\n",
    "        fy0 = k2\n",
    "        fv0 = 0\n",
    "    else\n",
    "        fy0 = f(t0)\n",
    "        fv0 = v(t0)\n",
    "    end\n",
    "        \n",
    "    \n",
    "#     @assert(isapprox(fy0, y0))\n",
    "#     @assert(isapprox(fv0, v0))\n",
    "    \n",
    "    return f, v\n",
    "end\n",
    "\n",
    "\"\"\"\n",
    "IF m > 0, let m = r^2\n",
    "y(t) = k1 * sin(rt)/t + k2 * cos(rt) / t - q/m\n",
    "y'(t) = k1 * r * cos(rt)/t - k1 * sin(rt) / t^2 - k2 * r * sin(rt) / t - k2 * cos(rt) / t^2\n",
    "\"\"\"\n",
    "function solve_ode_linear_mpos(t0, y0, v0, m, q)\n",
    "    @assert(m > 0)\n",
    "    r = sqrt(m)\n",
    "    \n",
    "    if isapprox(t0, 0)\n",
    "        @assert(isapprox(v0, 0))\n",
    "        # r * k1 - q / m = y0\n",
    "        k2 = 0\n",
    "        k1 = q / (m*r) + y0 / r\n",
    "    else\n",
    "        k1_coeff1 = sin(r * t0) / t0\n",
    "        k2_coeff1 = cos(r * t0) / t0\n",
    "        const1 = -q/m - y0\n",
    "        \n",
    "        k1_coeff2 = r * cos(r * t0) / t0 - sin(r * t0) / (t0^2)\n",
    "        k2_coeff2 = -r * sin(r * t0) / t0 - cos(r * t0) / (t0^2)\n",
    "        const2 = -v0\n",
    "        \n",
    "        M = [k1_coeff1 k2_coeff1 const1 ; k1_coeff2 k2_coeff2 const2]\n",
    "        k1, k2 = solve_affine_system(M)\n",
    "    end\n",
    "    \n",
    "    f(t) = k1 * sin(r * t) / t + k2 * cos(r * t) / t- q / m\n",
    "    v(t) = k1 * r * cos(r * t) / t - k1 * sin(r * t) / (t^2) - k2 * r * sin(r * t) / t - k2 * cos(r * t) / (t^2)\n",
    "    \n",
    "    if isapprox(t0, 0)\n",
    "        fy0 = r * k1 - q / m\n",
    "        fv0 = 0\n",
    "    else\n",
    "        fy0 = f(t0)\n",
    "        fv0 = v(t0)\n",
    "    end\n",
    "    \n",
    "#     @assert(isapprox(fy0, y0))\n",
    "#     @assert(isapprox(fv0, v0))\n",
    "    \n",
    "    return f, v\n",
    "end\n",
    "\n",
    "\"\"\"\n",
    "IF m < 0\n",
    "y(t) = k1 * e^t / t + k2 * e^(-t) / t - q/m\n",
    "y'(t) = k1 * e^t / t - k1 * e^t / t^2 - k2 * e^(-t) / t - k2 * e^(-t)/t^2\n",
    "\"\"\"\n",
    "function solve_ode_linear_mneg(t0, y0, v0, m, q)\n",
    "    @assert(m < 0)\n",
    "    r = sqrt(-m)\n",
    "    \n",
    "    if isapprox(t0, 0)\n",
    "        @assert(isapprox(v0, 0))\n",
    "        # k1 = -k2\n",
    "        # k1 - k2  - q/m = y0\n",
    "        a = (y0 + (q/m)) / 2\n",
    "        k1 = a\n",
    "        k2 = -a\n",
    "        k1 = q / (m*r) + y0 / r\n",
    "    else\n",
    "        k1_coeff1 = exp(r * t0) / t0\n",
    "        k2_coeff1 = exp(-r * t0) / t0\n",
    "        const1 = -q/m - y0\n",
    "        \n",
    "        k1_coeff2 = r * exp(r * t0) / t0 - exp(r * t0) / (t0^2)\n",
    "        k2_coeff2 = -r * exp(-r * t0) / t0 - exp(-r * t0) / (t0^2)\n",
    "        const2 = -v0\n",
    "        \n",
    "        M = [k1_coeff1 k2_coeff1 const1 ; k1_coeff2 k2_coeff2 const2]\n",
    "        k1, k2 = solve_affine_system(M)\n",
    "    end\n",
    "    \n",
    "    f(t) = k1 * exp(r * t) / t + k2 * exp(-r * t) / t - q / m\n",
    "    v(t) = k1 * r * exp(r * t) / t - k1 * exp(r * t) / (t^2) - k2 * r * exp(-r * t) / t - k2 * exp(-r * t) / (t^2)\n",
    "    \n",
    "    if isapprox(t0, 0)\n",
    "        fy0 = k1 - k2 - q/m\n",
    "        fv0 = 0\n",
    "    else\n",
    "        fy0 = f(t0)\n",
    "        fv0 = v(t0)\n",
    "    end\n",
    "    \n",
    "#     println(t0, \" \", y0, \" \", v0, \" \", m, \" \", q)\n",
    "#     println(fy0)\n",
    "#     @assert(isapprox(fy0, y0))\n",
    "#     @assert(isapprox(fv0, v0))\n",
    "    \n",
    "    return f, v\n",
    "end\n",
    "\n",
    "function solve_ode_linear(t0, y0, v0, m, q)\n",
    "    if isapprox(m, 0)\n",
    "        return solve_ode_linear_mzero(t0, y0, v0, q)\n",
    "    elseif m > 0\n",
    "        return solve_ode_linear_mpos(t0, y0, v0, m, q)\n",
    "    else\n",
    "        return solve_ode_linear_mneg(t0, y0, v0, m, q)\n",
    "    end\n",
    "end\n",
    "\n",
    "\n",
    "\n",
    "# control points are:\n",
    "# T0, v0 at 4+l\n",
    "# T1, v1 at 4\n",
    "# T2, v2 at 3\n",
    "# T3, v3 at 2\n",
    "# T4, v4 at 1\n",
    "function eval_does_it_pass_over2(b)\n",
    "    println(\"STARTING AT: \", b)\n",
    "    # f(y) = y - (4+l) + c\n",
    "    f0, v0 = solve_ode_linear(@interval(0), @interval(b), @interval(0), @interval(1), @interval(-4-l+c))\n",
    "    T0 = solve_for_time(f0, @interval(4+l), @interval(1e-5))\n",
    "    v0 = v0(T0)\n",
    "    println(\"T0, v0: \", T0, \", \", v0)\n",
    "    \n",
    "    # f(y) = c\n",
    "    f1, v1 = solve_ode_linear(T0, 4+l, v0, 0, c)\n",
    "    T1 = solve_for_time(f1, 4, T0)\n",
    "    v1 = v1(T1)\n",
    "    println(\"T1, v1: \", T1, \", \", v1)\n",
    "    \n",
    "    # f(y) = h^2 + (c - h^2) (y - 3)\n",
    "    # m = (c-h^2)\n",
    "    # q = h^2 - 3 (c - h^2)\n",
    "    f2, v2 = solve_ode_linear(T1, 4, v1, c-h2, h2 - 3 * (c - h2))\n",
    "    T2 = solve_for_time(f2, 3, T1)\n",
    "    v2 = v2(T2)\n",
    "    println(\"T2, v2: \", T2, \", \", v2)\n",
    "    \n",
    "    # f(y) = h^2(y-2)\n",
    "    f3, v3 = solve_ode_linear(T2, 3, v2, h2, -2 * h2)\n",
    "    T3 = solve_for_time(f3, 2, T2)\n",
    "    v3 = v3(T3)\n",
    "    println(\"T3, v3: \", T3, \", \", v3)\n",
    "    \n",
    "    # f(y) = y-2\n",
    "    f4, v4 = solve_ode_linear(T3, 2, v3, 1, -2)\n",
    "    T4 = solve_for_time(f4, 1, T3)\n",
    "    v4 = v4(T4)\n",
    "    println(\"T4, v4: \", T4, \", \", v4)\n",
    "    \n",
    "    # f(y) = -y\n",
    "    f5, v5 = solve_ode_linear(T4, 1, v4, -1, 0)\n",
    "    \n",
    "    long_time = f5(200)\n",
    "    return long_time < 0\n",
    "end"
   ]
  },
  {
   "cell_type": "code",
   "execution_count": 78,
   "metadata": {},
   "outputs": [
    {
     "data": {
      "text/plain": [
       "eval_does_it_pass_over_reg (generic function with 4 methods)"
      ]
     },
     "execution_count": 78,
     "metadata": {},
     "output_type": "execute_result"
    }
   ],
   "source": [
    "# R0 = line going to infinity\n",
    "# R1 = plateau\n",
    "# R2 = uphill\n",
    "# R3 = downhill to 0\n",
    "# R4 = downhill to negative\n",
    "MAXLEN = 10000\n",
    "# (xmin, xmax), (m, q) where f(y) = my + q\n",
    "R0 = [(4+l, MAXLEN), (1, -4-l+c)]\n",
    "R1 = [(4, 4+l), (0, c)]\n",
    "R2 = [(3, 4), (c-h2, h2 - 3 * (c - h2))]\n",
    "R3 = [(2, 3), (h2, -2 * h2)]\n",
    "R4 = [(1, 2), (1, -2)]\n",
    "R5 = [(0, 1), (-1, 0)]\n",
    "the_regs = [R0, R1, R2, R3, R4, R5]\n",
    "\n",
    "\n",
    "function eval_does_it_pass_over_reg(b, v = 0, t = 0, regi=-1)\n",
    "    if regi == -1\n",
    "        for i in 1:6\n",
    "            r = the_regs[i]\n",
    "            if b > r[1][1] && b <= r[1][2]\n",
    "                regi = i\n",
    "                break\n",
    "            else\n",
    "                continue\n",
    "            end\n",
    "        end\n",
    "    end\n",
    "    \n",
    "    \n",
    "    r = the_regs[regi]\n",
    "    \n",
    "    m = r[2][1]\n",
    "    q = r[2][2]\n",
    "#     println(regi, \", \", t, \", \", b, \", \", v)\n",
    "    f_func, v_func = solve_ode_linear(t, b, v, m, q)\n",
    "    \n",
    "    if regi == 6\n",
    "        return f_func(200) < 0\n",
    "    else\n",
    "        next = r[1][1]\n",
    "        T_new = solve_for_time(f_func, next, max(t, 1e-5))\n",
    "        if T_new < 0\n",
    "            return false\n",
    "        end\n",
    "        v_new = v_func(T_new)\n",
    "        return eval_does_it_pass_over_reg(next, v_new, T_new, regi+1)\n",
    "    end\n",
    "end"
   ]
  },
  {
   "cell_type": "code",
   "execution_count": 31,
   "metadata": {},
   "outputs": [
    {
     "data": {
      "text/plain": [
       "(f, v)"
      ]
     },
     "execution_count": 31,
     "metadata": {},
     "output_type": "execute_result"
    }
   ],
   "source": [
    "f, v = solve_ode_linear_mzero(0, 9, 0, 0.05)"
   ]
  },
  {
   "cell_type": "code",
   "execution_count": 32,
   "metadata": {},
   "outputs": [
    {
     "name": "stdout",
     "output_type": "stream",
     "text": [
      "T0, v0: π = 3.1415926535897..., -0.03183098861837896\n",
      "f(T0), fd(T0): 0.0, -0.03183098861837895\n",
      "T1, v1: 24.832029746966995, -0.41353858273264255\n",
      "f(T1), fd(T1): 1.3877787807814457e-17, -0.4135385827326426\n",
      "26.30898921390122, -1.2658866572736351\n",
      "0.0, -1.2658866572736351\n",
      "T3, v3: 26.949220823245707, -1.6930659839546913\n",
      "f(T3), fd(T3): -5.551115123125783e-17, -1.693065983954691\n"
     ]
    },
    {
     "data": {
      "text/plain": [
       "true"
      ]
     },
     "execution_count": 32,
     "metadata": {},
     "output_type": "execute_result"
    }
   ],
   "source": [
    "eval_does_it_pass_over(9.1)"
   ]
  },
  {
   "cell_type": "code",
   "execution_count": 511,
   "metadata": {},
   "outputs": [
    {
     "name": "stdout",
     "output_type": "stream",
     "text": [
      "T0, v0: π = 3.1415926535897..., -1.909859317102744\n",
      "f(T0), fd(T0): 0.0, -1.909859317102744\n",
      "T1, v1: 10.717737015085742, -0.3382250390636018\n",
      "f(T1), fd(T1): -1.3877787807814457e-17, -0.3382250390636018\n",
      "12.405571993189374, -1.1962427106571027\n",
      "0.0, -1.1962427106571025\n",
      "T3, v3: 13.084885938959637, -1.570686189708663\n",
      "f(T3), fd(T3): 0.0, -1.5706861897086626\n"
     ]
    },
    {
     "data": {
      "text/plain": [
       "false"
      ]
     },
     "execution_count": 511,
     "metadata": {},
     "output_type": "execute_result"
    }
   ],
   "source": [
    "eval_does_it_pass_over(15)"
   ]
  },
  {
   "cell_type": "code",
   "execution_count": 524,
   "metadata": {},
   "outputs": [
    {
     "name": "stdout",
     "output_type": "stream",
     "text": [
      "STARTING AT: [9.09999, 9.10001]\n",
      "T0, v0: [2.27886, 2.27887], [-0.0647494, -0.0647493]\n",
      "T1, v1: [24.4653, 24.4654], [-0.407989, -0.407988]\n",
      "T2, v2: [25.9529, 25.953], [-1.26366, -1.26365]\n",
      "T3, v3: [26.5941, 26.5942], [-1.69056, -1.69054]\n",
      "T4, v4: [27.2451, 27.2452], [-1.27594, -1.27592]\n"
     ]
    },
    {
     "data": {
      "text/plain": [
       "true"
      ]
     },
     "execution_count": 524,
     "metadata": {},
     "output_type": "execute_result"
    }
   ],
   "source": [
    "eval_does_it_pass_over2(@interval(9.1))"
   ]
  },
  {
   "cell_type": "code",
   "execution_count": 516,
   "metadata": {},
   "outputs": [
    {
     "name": "stdout",
     "output_type": "stream",
     "text": [
      "STARTING AT: [15, 15]\n",
      "T0, v0: [3.11583, 3.11584], [-1.9571, -1.95709]\n",
      "T1, v1: [10.4636, 10.4637], [-0.343329, -0.343328]\n",
      "T2, v2: [12.1427, 12.1428], [-1.19531, -1.19529]\n",
      "T3, v3: [12.823, 12.8231], [-1.5671, -1.56708]\n",
      "T4, v4: [13.5639, 13.564], [-1.01935, -1.01932]\n"
     ]
    },
    {
     "data": {
      "text/plain": [
       "false"
      ]
     },
     "execution_count": 516,
     "metadata": {},
     "output_type": "execute_result"
    }
   ],
   "source": [
    "eval_does_it_pass_over2(@interval(15))"
   ]
  },
  {
   "cell_type": "code",
   "execution_count": 84,
   "metadata": {},
   "outputs": [
    {
     "data": {
      "text/plain": [
       "100-element LinRange{Float64}:\n",
       " 0.01,0.312929,0.615859,0.918788,…,28.7883,29.0912,29.3941,29.6971,30.0"
      ]
     },
     "execution_count": 84,
     "metadata": {},
     "output_type": "execute_result"
    }
   ],
   "source": [
    "L = LinRange(0.01, 30.0, 100)"
   ]
  },
  {
   "cell_type": "code",
   "execution_count": 85,
   "metadata": {},
   "outputs": [
    {
     "name": "stdout",
     "output_type": "stream",
     "text": [
      "0.01,false\n",
      "0.31292929292929295,false\n",
      "0.6158585858585859,false\n",
      "0.9187878787878788,false\n",
      "1.2217171717171718,false\n",
      "1.5246464646464646,false\n",
      "1.8275757575757576,false\n",
      "2.1305050505050502,false\n",
      "2.4334343434343433,false\n",
      "2.7363636363636368,false\n",
      "3.0392929292929294,false\n",
      "3.342222222222222,false\n",
      "3.6451515151515155,false\n",
      "3.9480808080808085,false\n",
      "4.251010101010101,false\n",
      "4.553939393939395,false\n",
      "4.856868686868687,false\n",
      "5.15979797979798,false\n",
      "5.462727272727273,true\n",
      "5.765656565656565,true\n",
      "6.068585858585859,true\n",
      "6.371515151515152,true\n",
      "6.674444444444444,true\n",
      "6.977373737373737,true\n",
      "7.280303030303031,true\n",
      "7.583232323232323,true\n",
      "7.886161616161617,true\n",
      "8.18909090909091,true\n",
      "8.492020202020202,true\n",
      "8.794949494949494,true\n",
      "9.09787878787879,true\n",
      "9.400808080808082,true\n",
      "9.703737373737374,true\n",
      "10.006666666666666,true\n",
      "10.30959595959596,true\n",
      "10.612525252525252,true\n",
      "10.915454545454546,true\n",
      "11.21838383838384,true\n",
      "11.52131313131313,true\n",
      "11.824242424242424,true\n",
      "12.127171717171716,true\n",
      "12.43010101010101,true\n",
      "12.733030303030304,true\n",
      "13.035959595959596,true\n",
      "13.338888888888889,true\n",
      "13.641818181818183,true\n",
      "13.944747474747475,true\n",
      "14.247676767676767,true\n",
      "14.550606060606063,false\n",
      "14.853535353535355,false\n",
      "15.156464646464647,false\n",
      "15.459393939393937,false\n",
      "15.762323232323235,false\n",
      "16.06525252525253,false\n",
      "16.368181818181817,false\n",
      "16.671111111111113,false\n",
      "16.9740404040404,false\n",
      "17.276969696969697,false\n",
      "17.57989898989899,false\n",
      "17.88282828282828,false\n",
      "18.185757575757577,false\n",
      "18.48868686868687,false\n",
      "18.79161616161616,false\n",
      "19.094545454545454,false\n",
      "19.39747474747475,false\n",
      "19.700404040404038,false\n",
      "20.003333333333334,false\n",
      "20.306262626262626,false\n",
      "20.609191919191918,false\n",
      "20.912121212121214,false\n",
      "21.215050505050502,false\n",
      "21.517979797979798,false\n",
      "21.820909090909094,true\n",
      "22.123838383838383,true\n",
      "22.42676767676768,true\n",
      "22.72969696969697,true\n",
      "23.03262626262626,true\n",
      "23.335555555555555,true\n",
      "23.63848484848485,true\n",
      "23.941414141414143,true\n",
      "24.244343434343435,true\n",
      "24.547272727272727,true\n",
      "24.85020202020202,true\n",
      "25.15313131313131,true\n",
      "25.456060606060607,true\n",
      "25.7589898989899,true\n",
      "26.061919191919195,true\n",
      "26.364848484848483,true\n",
      "26.667777777777776,true\n",
      "26.97070707070707,true\n",
      "27.273636363636363,true\n",
      "27.57656565656566,true\n",
      "27.87949494949495,true\n",
      "28.182424242424243,true\n",
      "28.485353535353536,true\n",
      "28.788282828282824,true\n",
      "29.091212121212124,true\n",
      "29.394141414141416,true\n",
      "29.697070707070708,true\n",
      "30.0,true\n"
     ]
    }
   ],
   "source": [
    "for b in L\n",
    "    res = eval_does_it_pass_over_reg(b)\n",
    "    println(b, \",\", res)\n",
    "    flush(stdout)\n",
    "end"
   ]
  },
  {
   "cell_type": "code",
   "execution_count": null,
   "metadata": {},
   "outputs": [],
   "source": []
  }
 ],
 "metadata": {
  "kernelspec": {
   "display_name": "Julia 1.1.0",
   "language": "julia",
   "name": "julia-1.1"
  },
  "language_info": {
   "file_extension": ".jl",
   "mimetype": "application/julia",
   "name": "julia",
   "version": "1.1.0"
  }
 },
 "nbformat": 4,
 "nbformat_minor": 2
}
