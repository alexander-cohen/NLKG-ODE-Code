{
 "cells": [
  {
   "cell_type": "code",
   "execution_count": 373,
   "metadata": {},
   "outputs": [],
   "source": [
    "%run cex_search.py\n",
    "from scipy import integrate"
   ]
  },
  {
   "cell_type": "code",
   "execution_count": null,
   "metadata": {},
   "outputs": [],
   "source": [
    "zf = make_my_interp(0.8, 0.02, 2, 2, 5, kind=\"slinear\")\n",
    "zf_ode = make_ode_force(zf)"
   ]
  },
  {
   "cell_type": "code",
   "execution_count": null,
   "metadata": {},
   "outputs": [],
   "source": [
    "xs = np.arange(-20, 20, 0.01)\n",
    "ys = [zf(x) for x in xs]\n",
    "plt.plot(xs, ys)"
   ]
  },
  {
   "cell_type": "code",
   "execution_count": null,
   "metadata": {},
   "outputs": [],
   "source": [
    "T = 30\n",
    "times = np.arange(0.1, T, 0.01)\n",
    "plot_sol_arb(12.51, T, zf_ode, times, rtol = 1e-8, atol = 1e-8, method=\"RK23\")\n",
    "plt.hlines(0, 0, 30)"
   ]
  },
  {
   "cell_type": "code",
   "execution_count": null,
   "metadata": {},
   "outputs": [],
   "source": [
    "# calculates all the pairs (t, y') that appear \n",
    "# as the time & velocity of the particle reaching the bottom of the first well for the first time\n",
    "# green is initial y small, and red is initial y large\n",
    "all_t = []\n",
    "all_v = []\n",
    "initial_range = np.arange(2.01, 20, 0.1)\n",
    "\n",
    "for b in initial_range:\n",
    "    print(b)\n",
    "    res = calc_event_arb(b, 30, zf_ode, (lambda t,y: y[0] - 2), n = 0, rtol=1e-5, atol=1e-5, method=\"RK23\")\n",
    "    if res == None:\n",
    "        continue\n",
    "    else:\n",
    "        t, y = res\n",
    "    all_t.append(t)\n",
    "    all_v.append(y[1])\n",
    "    \n",
    "plt.plot(all_t, all_v)\n",
    "plt.scatter(all_t[0], all_v[0], color='green')\n",
    "plt.scatter(all_t[-1], all_v[-1], color='red')\n",
    "plt.xlabel(\"time\")\n",
    "plt.ylabel(\"velocity\")\n",
    "plt.title(\"time & velocity achieved by ball hitting y = 1 for first time\")"
   ]
  },
  {
   "cell_type": "code",
   "execution_count": null,
   "metadata": {},
   "outputs": [],
   "source": [
    "sqrt(2)"
   ]
  },
  {
   "cell_type": "code",
   "execution_count": null,
   "metadata": {},
   "outputs": [],
   "source": [
    "T = 50\n",
    "def num_crossings(b, ode, tol=1e-8, **kwargs):\n",
    "    def has_stopped(t, y): return y[1]\n",
    "    has_stopped.terminal = True\n",
    "    has_stopped.direction = 1\n",
    "    sol = solve_ivp(ode, [1e-5, T], [b, 0], events = [at_0, has_stopped], rtol=tol, atol=tol, **kwargs)\n",
    "    return len(sol.t_events[0])"
   ]
  },
  {
   "cell_type": "code",
   "execution_count": null,
   "metadata": {},
   "outputs": [],
   "source": [
    "bs = np.arange(3, 20, 0.1)\n",
    "ys = [num_crossings(b, zf_ode, tol=1e-8, method=\"RK23\") for b in bs]"
   ]
  },
  {
   "cell_type": "code",
   "execution_count": null,
   "metadata": {},
   "outputs": [],
   "source": [
    "plt.plot(bs, ys)"
   ]
  },
  {
   "cell_type": "code",
   "execution_count": null,
   "metadata": {},
   "outputs": [],
   "source": [
    "T = 50\n",
    "plot_sol_arb(10, T, zf_ode, times, rtol = 1e-8, atol = 1e-8, method=\"RK23\")\n",
    "plot_sol_arb(12, T, zf_ode, times, rtol = 1e-8, atol = 1e-8, method=\"RK23\")"
   ]
  },
  {
   "cell_type": "code",
   "execution_count": null,
   "metadata": {},
   "outputs": [],
   "source": [
    "xs = np.arange(0, 20, 0.01)\n",
    "ys = [zf(x) for x in xs]\n",
    "y_int = integrate.cumtrapz(ys, xs, initial=0)\n",
    "plt.plot(xs, y_int)\n",
    "plt.vlines(10, 0, 3)\n",
    "plt.vlines(12, 0, 3)"
   ]
  },
  {
   "cell_type": "code",
   "execution_count": null,
   "metadata": {},
   "outputs": [],
   "source": []
  },
  {
   "cell_type": "code",
   "execution_count": null,
   "metadata": {},
   "outputs": [],
   "source": []
  },
  {
   "cell_type": "code",
   "execution_count": null,
   "metadata": {},
   "outputs": [],
   "source": []
  },
  {
   "cell_type": "code",
   "execution_count": 413,
   "metadata": {},
   "outputs": [
    {
     "data": {
      "text/plain": [
       "<matplotlib.collections.LineCollection at 0x7ff314ecdb00>"
      ]
     },
     "execution_count": 413,
     "metadata": {},
     "output_type": "execute_result"
    },
    {
     "data": {
      "image/png": "[encoded data removed]",
      "text/plain": [
       "<Figure size 432x288 with 1 Axes>"
      ]
     },
     "metadata": {
      "needs_background": "light"
     },
     "output_type": "display_data"
    }
   ],
   "source": [
    "zf2 = make_my_interp2(1.5, 5, 0.05, 1)\n",
    "zf2_ode = make_ode_force(zf2)\n",
    "xs = np.arange(-10, 10, 0.01)\n",
    "ys = [zf2(x) for x in xs]\n",
    "plt.plot(xs, ys)\n",
    "plt.vlines(0, -1, 1)\n",
    "# plt.hlines(0, -10, 10)"
   ]
  },
  {
   "cell_type": "code",
   "execution_count": 411,
   "metadata": {},
   "outputs": [
    {
     "data": {
      "text/plain": [
       "<matplotlib.collections.LineCollection at 0x7ff315f4b9e8>"
      ]
     },
     "execution_count": 411,
     "metadata": {},
     "output_type": "execute_result"
    },
    {
     "data": {
      "image/png": "[encoded data removed]",
      "text/plain": [
       "<Figure size 432x288 with 1 Axes>"
      ]
     },
     "metadata": {
      "needs_background": "light"
     },
     "output_type": "display_data"
    }
   ],
   "source": [
    "xs = np.arange(0, 12, 0.2)\n",
    "ys = [zf2(x) for x in xs]\n",
    "y_int = integrate.cumtrapz(ys, xs, initial=0)\n",
    "plt.plot(xs, y_int)\n",
    "plt.vlines(9, 0, 5)\n",
    "plt.vlines(4, 0, 5)"
   ]
  },
  {
   "cell_type": "code",
   "execution_count": 380,
   "metadata": {},
   "outputs": [
    {
     "data": {
      "text/plain": [
       "1"
      ]
     },
     "execution_count": 380,
     "metadata": {},
     "output_type": "execute_result"
    }
   ],
   "source": [
    "num_crossings(9, zf2_ode, tol=1e-8, method=\"Radau\")"
   ]
  },
  {
   "cell_type": "code",
   "execution_count": 381,
   "metadata": {},
   "outputs": [
    {
     "data": {
      "text/plain": [
       "0"
      ]
     },
     "execution_count": 381,
     "metadata": {},
     "output_type": "execute_result"
    }
   ],
   "source": [
    "num_crossings(15, zf2_ode, tol=1e-8, method=\"Radau\")"
   ]
  },
  {
   "cell_type": "code",
   "execution_count": 382,
   "metadata": {},
   "outputs": [
    {
     "data": {
      "image/png": "[encoded data removed]",
      "text/plain": [
       "<Figure size 432x288 with 1 Axes>"
      ]
     },
     "metadata": {
      "needs_background": "light"
     },
     "output_type": "display_data"
    }
   ],
   "source": [
    "plot_sol_arb(9, 50, zf2_ode, method=\"RK23\")\n",
    "plot_sol_arb(15, 50, zf2_ode, method=\"Radau\")"
   ]
  },
  {
   "cell_type": "code",
   "execution_count": 446,
   "metadata": {},
   "outputs": [
    {
     "data": {
      "text/plain": [
       "<matplotlib.collections.LineCollection at 0x7ff3161058d0>"
      ]
     },
     "execution_count": 446,
     "metadata": {},
     "output_type": "execute_result"
    },
    {
     "data": {
      "image/png": "[encoded data removed]",
      "text/plain": [
       "<Figure size 432x288 with 1 Axes>"
      ]
     },
     "metadata": {
      "needs_background": "light"
     },
     "output_type": "display_data"
    }
   ],
   "source": [
    "# plot_sol_arb(17, 50, zf2_ode, method=\"Radau\")\n",
    "plot_sol_arb(15, 50, zf2_ode, method=\"Radau\")\n",
    "# plot_sol_arb(12, 50, zf2_ode, method=\"Radau\")\n",
    "plt.hlines(9, 0, 20)\n",
    "plt.hlines(4, 0, 20)\n",
    "plt.hlines(3, 0, 20)"
   ]
  },
  {
   "cell_type": "code",
   "execution_count": 463,
   "metadata": {},
   "outputs": [],
   "source": [
    "sol = calc_event_arb(15, 30, zf2_ode, lambda t,y: y[0] - 1, rtol=1e-8, atol=1e-8)"
   ]
  },
  {
   "cell_type": "code",
   "execution_count": 464,
   "metadata": {},
   "outputs": [
    {
     "data": {
      "text/plain": [
       "(13.563945338021613, array([ 1.       , -1.0193439]))"
      ]
     },
     "execution_count": 464,
     "metadata": {},
     "output_type": "execute_result"
    }
   ],
   "source": [
    "sol"
   ]
  },
  {
   "cell_type": "code",
   "execution_count": 439,
   "metadata": {},
   "outputs": [],
   "source": [
    "sol = solve_ivp(zf2_ode, [1e-8, 40], [15, 0], events = lambda t,y: y[0] - 9, rtol=1e-10, atol=1e-10, method = \"Radau\")"
   ]
  },
  {
   "cell_type": "code",
   "execution_count": 440,
   "metadata": {},
   "outputs": [
    {
     "data": {
      "text/plain": [
       "[array([3.11583907])]"
      ]
     },
     "execution_count": 440,
     "metadata": {},
     "output_type": "execute_result"
    }
   ],
   "source": [
    "sol.t_events"
   ]
  },
  {
   "cell_type": "code",
   "execution_count": 441,
   "metadata": {},
   "outputs": [
    {
     "data": {
      "text/plain": [
       "[-0.954929658551372, 0.5579276153485159]"
      ]
     },
     "execution_count": 441,
     "metadata": {},
     "output_type": "execute_result"
    }
   ],
   "source": [
    "zf2_ode(3.14159, [9, -0.954929658551372])"
   ]
  },
  {
   "cell_type": "code",
   "execution_count": null,
   "metadata": {},
   "outputs": [],
   "source": [
    "bs = np.arange(3, 13, 1)\n",
    "ys = [num_crossings(b, zf2_ode, tol=1e-8, method=\"RK23\") for b in bs]"
   ]
  },
  {
   "cell_type": "code",
   "execution_count": null,
   "metadata": {},
   "outputs": [],
   "source": [
    "plt.plot(bs, ys)"
   ]
  },
  {
   "cell_type": "code",
   "execution_count": null,
   "metadata": {},
   "outputs": [],
   "source": [
    "plot_sol_arb(8, 50, zf2_ode, method=\"RK23\")"
   ]
  },
  {
   "cell_type": "code",
   "execution_count": null,
   "metadata": {},
   "outputs": [],
   "source": [
    "num_crossings(12, zf2_ode, tol=1e-8, method=\"Radau\")"
   ]
  },
  {
   "cell_type": "code",
   "execution_count": null,
   "metadata": {},
   "outputs": [],
   "source": [
    "b = 8\n",
    "T = 50\n",
    "def has_stopped(t, y): return y[1]\n",
    "has_stopped.terminal = True\n",
    "has_stopped.direction = 1\n",
    "sol = solve_ivp(zf2_ode, [1e-5, T], [b, 0], events = [at_0, has_stopped], rtol=1e-8, atol=1e-8, method=\"RK23\")\n",
    "sol.t_events[0]\n",
    "plt.plot(sol.t, sol.y[0])"
   ]
  },
  {
   "cell_type": "code",
   "execution_count": null,
   "metadata": {},
   "outputs": [],
   "source": [
    "plt.plot(sol.t, sol.y[0])"
   ]
  },
  {
   "cell_type": "code",
   "execution_count": null,
   "metadata": {},
   "outputs": [],
   "source": []
  },
  {
   "cell_type": "code",
   "execution_count": 442,
   "metadata": {},
   "outputs": [],
   "source": [
    "def myf(y): return 0.05\n",
    "const_ode = make_ode_force(myf)"
   ]
  },
  {
   "cell_type": "code",
   "execution_count": 443,
   "metadata": {},
   "outputs": [],
   "source": [
    "sol = solve_ivp(const_ode, [1e-8, 40], [9, 0], events = lambda t,y: y[0] - 4, rtol=1e-10, atol=1e-10, method = \"Radau\")"
   ]
  },
  {
   "cell_type": "code",
   "execution_count": 445,
   "metadata": {},
   "outputs": [
    {
     "data": {
      "text/plain": [
       "[array([24.49489743])]"
      ]
     },
     "execution_count": 445,
     "metadata": {},
     "output_type": "execute_result"
    }
   ],
   "source": [
    "sol.t_events"
   ]
  },
  {
   "cell_type": "code",
   "execution_count": null,
   "metadata": {},
   "outputs": [],
   "source": []
  }
 ],
 "metadata": {
  "@webio": {
   "lastCommId": null,
   "lastKernelId": null
  },
  "kernelspec": {
   "display_name": "Python 3",
   "language": "python",
   "name": "python3"
  },
  "language_info": {
   "codemirror_mode": {
    "name": "ipython",
    "version": 3
   },
   "file_extension": ".py",
   "mimetype": "text/x-python",
   "name": "python",
   "nbconvert_exporter": "python",
   "pygments_lexer": "ipython3",
   "version": "3.7.0"
  }
 },
 "nbformat": 4,
 "nbformat_minor": 2
}
